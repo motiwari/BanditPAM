{
 "cells": [
  {
   "cell_type": "code",
   "execution_count": 1,
   "id": "1f1609d8-325a-40e7-9877-e6510cfef659",
   "metadata": {
    "tags": []
   },
   "outputs": [],
   "source": [
    "from sklearn.datasets import fetch_openml\n",
    "from collections import defaultdict\n",
    "import time\n",
    "import numpy as np\n",
    "import banditpam\n",
    "\n",
    "from sklearn.metrics.pairwise import euclidean_distances\n",
    "from kmedoids import fasterpam\n"
   ]
  },
  {
   "cell_type": "code",
   "execution_count": 2,
   "id": "9c8c52bb-e329-4ebf-941b-11bae445c37f",
   "metadata": {
    "tags": []
   },
   "outputs": [
    {
     "name": "stderr",
     "output_type": "stream",
     "text": [
      "/Users/motiwari/opt/anaconda3/envs/banditpam/lib/python3.10/site-packages/sklearn/datasets/_openml.py:932: FutureWarning: The default value of `parser` will change from `'liac-arff'` to `'auto'` in 1.4. You can set `parser='auto'` to silence this warning. Therefore, an `ImportError` will be raised from 1.4 if the dataset is dense and pandas is not installed. Note that the pandas parser may return different data types. See the Notes Section in fetch_openml's API doc for details.\n",
      "  warn(\n"
     ]
    }
   ],
   "source": [
    "X, _ = fetch_openml(\n",
    "        \"mnist_784\",\n",
    "        version=1,\n",
    "        return_X_y=True,\n",
    "        as_frame=False,\n",
    "    )"
   ]
  },
  {
   "cell_type": "code",
   "execution_count": 3,
   "id": "c611aa86-dcb1-4608-bbd9-8b5b953c4b40",
   "metadata": {
    "tags": []
   },
   "outputs": [],
   "source": [
    "mnist = X[:1000]"
   ]
  },
  {
   "cell_type": "code",
   "execution_count": 4,
   "id": "2b92f0b2-f409-44ad-b0c1-e76d391cdd29",
   "metadata": {
    "tags": []
   },
   "outputs": [
    {
     "name": "stdout",
     "output_type": "stream",
     "text": [
      "FasterPAM took  2  iterations\n",
      "[447 454 423 421 639] 1974.4438517694173 1974.4438517694173\n"
     ]
    }
   ],
   "source": [
    "diss = euclidean_distances(mnist)\n",
    "r = fasterpam(diss, 5, random_state=2)\n",
    "print(\"FasterPAM took \", r.n_iter, \" iterations\")\n",
    "meds, lbl = mnist[r.medoids], r.labels\n",
    "verified_loss = np.sqrt(((mnist - meds[lbl]) ** 2).sum(axis=1)).sum()\n",
    "print(r.medoids, r.loss/1000, verified_loss/1000)"
   ]
  },
  {
   "cell_type": "code",
   "execution_count": 5,
   "id": "eca05b3e-f482-4b1d-89ab-09f1614c144d",
   "metadata": {
    "tags": []
   },
   "outputs": [
    {
     "name": "stdout",
     "output_type": "stream",
     "text": [
      "[754 447 639 853 421]\n",
      "1969.885009765625\n"
     ]
    }
   ],
   "source": [
    "kmed = banditpam.KMedoids(n_medoids=5, algorithm=\"BanditPAM\")\n",
    "kmed.fit(mnist, \"L2\")\n",
    "print(kmed.medoids)\n",
    "print(kmed.average_loss)"
   ]
  },
  {
   "cell_type": "code",
   "execution_count": null,
   "id": "e840669f-7087-47b6-a0c4-5e0bad789900",
   "metadata": {
    "tags": []
   },
   "outputs": [],
   "source": [
    "kmed = banditpam.KMedoids(n_medoids=5, algorithm=\"FasterPAM\")\n",
    "kmed.fit(mnist, \"L2\")\n",
    "print(kmed.medoids)\n",
    "print(kmed.average_loss)"
   ]
  },
  {
   "cell_type": "code",
   "execution_count": null,
   "id": "2706476d-2751-44b1-aca1-5738763ea19e",
   "metadata": {},
   "outputs": [],
   "source": []
  }
 ],
 "metadata": {
  "kernelspec": {
   "display_name": "Python 3 (ipykernel)",
   "language": "python",
   "name": "python3"
  },
  "language_info": {
   "codemirror_mode": {
    "name": "ipython",
    "version": 3
   },
   "file_extension": ".py",
   "mimetype": "text/x-python",
   "name": "python",
   "nbconvert_exporter": "python",
   "pygments_lexer": "ipython3",
   "version": "3.10.6"
  }
 },
 "nbformat": 4,
 "nbformat_minor": 5
}
